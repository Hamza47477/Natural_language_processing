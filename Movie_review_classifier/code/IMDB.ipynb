{
 "cells": [
  {
   "cell_type": "markdown",
   "metadata": {},
   "source": [
    "# IMDb Movie Rating classifier"
   ]
  },
  {
   "cell_type": "code",
   "execution_count": 1,
   "metadata": {},
   "outputs": [
    {
     "name": "stdout",
     "output_type": "stream",
     "text": [
      "WARNING:tensorflow:From C:\\Users\\PMLS\\AppData\\Roaming\\Python\\Python311\\site-packages\\keras\\src\\losses.py:2976: The name tf.losses.sparse_softmax_cross_entropy is deprecated. Please use tf.compat.v1.losses.sparse_softmax_cross_entropy instead.\n",
      "\n"
     ]
    }
   ],
   "source": [
    "# Importing the libraries :\n",
    "\n",
    "import csv\n",
    "\n",
    "import numpy as np\n",
    "\n",
    "import tensorflow as tf\n",
    "\n",
    "from sklearn.preprocessing import LabelEncoder\n",
    "\n",
    "from tensorflow.keras.preprocessing.text import Tokenizer\n",
    "\n",
    "from tensorflow.keras.preprocessing.sequence import pad_sequences"
   ]
  },
  {
   "cell_type": "markdown",
   "metadata": {},
   "source": [
    "# Loading the dataste "
   ]
  },
  {
   "cell_type": "code",
   "execution_count": 2,
   "metadata": {},
   "outputs": [
    {
     "name": "stdout",
     "output_type": "stream",
     "text": [
      "First line (Header) Looks like this :\n",
      "\n",
      "       review,sentiment\n",
      "\n",
      "Each Data point looks like this :\n",
      "\n",
      "           \"One of the other reviewers has mentioned that after watching just 1 Oz episode you'll be hooked. They are right, as this is exactly what happened with me.<br /><br />The first thing that struck me about Oz was its brutality and unflinching scenes of violence, which set in right from the word GO. Trust me, this is not a show for the faint hearted or timid. This show pulls no punches with regards to drugs, sex or violence. Its is hardcore, in the classic use of the word.<br /><br />It is called OZ as that is the nickname given to the Oswald Maximum Security State Penitentary. It focuses mainly on Emerald City, an experimental section of the prison where all the cells have glass fronts and face inwards, so privacy is not high on the agenda. Em City is home to many..Aryans, Muslims, gangstas, Latinos, Christians, Italians, Irish and more....so scuffles, death stares, dodgy dealings and shady agreements are never far away.<br /><br />I would say the main appeal of the show is due to the fact that it goes where other shows wouldn't dare. Forget pretty pictures painted for mainstream audiences, forget charm, forget romance...OZ doesn't mess around. The first episode I ever saw struck me as so nasty it was surreal, I couldn't say I was ready for it, but as I watched more, I developed a taste for Oz, and got accustomed to the high levels of graphic violence. Not just violence, but injustice (crooked guards who'll be sold out for a nickel, inmates who'll kill on order and get away with it, well mannered, middle class inmates being turned into prison bitches due to their lack of street skills or prison experience) Watching Oz, you may become comfortable with what is uncomfortable viewing....thats if you can get in touch with your darker side.\",positive\n",
      "\n"
     ]
    }
   ],
   "source": [
    "file_path = r\"C:\\Users\\PMLS\\Desktop\\Personal\\Coursera\\NLP\\IMDB_movie_rating\\IMDB Dataset.csv\\IMDB Dataset.csv\"\n",
    "\n",
    "with open(file_path, \"r\") as csvfile:\n",
    "    \n",
    "    csv_reader = csv.reader(csvfile)\n",
    "\n",
    "    print(f\"First line (Header) Looks like this :\\n\\n       {csvfile.readline()}\")\n",
    "    \n",
    "    print(f'Each Data point looks like this :\\n\\n           {csvfile.readline()}')\n",
    "        "
   ]
  },
  {
   "cell_type": "code",
   "execution_count": 3,
   "metadata": {},
   "outputs": [],
   "source": [
    "training_file_path = r\"C:\\Users\\PMLS\\Desktop\\Personal\\Coursera\\NLP\\IMDB_movie_rating\\IMDB Dataset.csv\\train.csv\"\n",
    "\n",
    "test_file_path = r\"C:\\Users\\PMLS\\Desktop\\Personal\\Coursera\\NLP\\IMDB_movie_rating\\IMDB Dataset.csv\\test.csv\""
   ]
  },
  {
   "cell_type": "code",
   "execution_count": 4,
   "metadata": {},
   "outputs": [],
   "source": [
    "# loading training data\n",
    "\n",
    "training_sentences = []\n",
    "\n",
    "training_labels = []\n",
    "\n",
    "\n",
    "with open(training_file_path, 'r', encoding='utf-8') as csvfile:\n",
    "    \n",
    "    reader = csv.reader(csvfile)\n",
    "    \n",
    "    header = next(reader, None)\n",
    "    \n",
    "    for row in reader:\n",
    "        \n",
    "        review, sentiment = row\n",
    "        \n",
    "        training_sentences.append(review)\n",
    "        \n",
    "        training_labels.append(sentiment)\n",
    "        "
   ]
  },
  {
   "cell_type": "code",
   "execution_count": 5,
   "metadata": {},
   "outputs": [],
   "source": [
    "# Loading test data :\n",
    "\n",
    "test_sentences = []\n",
    "\n",
    "test_labels = []\n",
    "\n",
    "with open(test_file_path, 'r', encoding='utf-8') as csvfile:\n",
    "    \n",
    "    reader = csv.reader(csvfile)\n",
    "    \n",
    "    header = next(reader, None)\n",
    "    \n",
    "    for row in reader:\n",
    "        \n",
    "        review, sentiment = row\n",
    "        \n",
    "        test_sentences.append(review)\n",
    "        \n",
    "        test_labels.append(sentiment)"
   ]
  },
  {
   "cell_type": "markdown",
   "metadata": {},
   "source": []
  },
  {
   "cell_type": "code",
   "execution_count": 6,
   "metadata": {},
   "outputs": [],
   "source": [
    "# Assigning labels a numeric value :\n",
    "\n",
    "label_encoder = LabelEncoder()\n",
    "\n",
    "training_labels_encoded = label_encoder.fit_transform(training_labels)\n",
    "\n",
    "test_labels_encoded = label_encoder.fit_transform(test_labels)\n",
    "\n",
    "# Convert labels into numpy arrays :\n",
    "\n",
    "training_labels_final = np.array(training_labels_encoded)\n",
    "\n",
    "test_labels_final = np.array(test_labels_encoded)"
   ]
  },
  {
   "cell_type": "code",
   "execution_count": 7,
   "metadata": {},
   "outputs": [
    {
     "name": "stdout",
     "output_type": "stream",
     "text": [
      "[1 1 1 ... 0 0 1] [0 1 1 ... 0 0 0]\n"
     ]
    }
   ],
   "source": [
    "print(training_labels_final, test_labels_final)"
   ]
  },
  {
   "cell_type": "markdown",
   "metadata": {},
   "source": [
    "# Generate Padded Sequence"
   ]
  },
  {
   "cell_type": "code",
   "execution_count": 8,
   "metadata": {},
   "outputs": [],
   "source": [
    "# parameters:\n",
    "\n",
    "vocabulary_size = 10000\n",
    "\n",
    "max_length = 120\n",
    "\n",
    "embedding_dim = 16      # Dimensions to represent dense vectors\n",
    "\n",
    "trunc_type = 'post'     # Making the length of all sentences equal\n",
    "\n",
    "oov_tok = '<OOV>'       # Out of vocabulary tokens"
   ]
  },
  {
   "cell_type": "code",
   "execution_count": 9,
   "metadata": {},
   "outputs": [],
   "source": [
    "# Initialize tokenizer class :\n",
    "\n",
    "tokenizer = Tokenizer(num_words= vocabulary_size, oov_token = oov_tok)\n",
    "\n",
    "# GEnerate the word index :\n",
    "\n",
    "tokenizer.fit_on_texts(training_sentences)\n",
    "\n",
    "word_index = tokenizer.word_index\n",
    "\n",
    "# Generate and Pad the training sequence :\n",
    "\n",
    "sequences = tokenizer.texts_to_sequences(training_sentences)\n",
    "\n",
    "padded = pad_sequences(sequences , maxlen=max_length , truncating=trunc_type)\n",
    "\n",
    "# Generate the test sequence :\n",
    "\n",
    "test_sequences = tokenizer.texts_to_sequences(test_sentences)\n",
    "\n",
    "test_padded = pad_sequences(test_sequences , maxlen=max_length , truncating=trunc_type)"
   ]
  },
  {
   "cell_type": "markdown",
   "metadata": {},
   "source": [
    "# Build the model "
   ]
  },
  {
   "cell_type": "code",
   "execution_count": 10,
   "metadata": {},
   "outputs": [
    {
     "name": "stdout",
     "output_type": "stream",
     "text": [
      "WARNING:tensorflow:From C:\\Users\\PMLS\\AppData\\Roaming\\Python\\Python311\\site-packages\\keras\\src\\backend.py:873: The name tf.get_default_graph is deprecated. Please use tf.compat.v1.get_default_graph instead.\n",
      "\n",
      "WARNING:tensorflow:From C:\\Users\\PMLS\\AppData\\Roaming\\Python\\Python311\\site-packages\\keras\\src\\optimizers\\__init__.py:309: The name tf.train.Optimizer is deprecated. Please use tf.compat.v1.train.Optimizer instead.\n",
      "\n"
     ]
    }
   ],
   "source": [
    "model = tf.keras.Sequential([\n",
    "    \n",
    "    tf.keras.layers.Embedding(vocabulary_size , embedding_dim , input_length=max_length),\n",
    "    \n",
    "    tf.keras.layers.Flatten(),\n",
    "    \n",
    "    tf.keras.layers.Dense(6 , activation = 'relu'),\n",
    "    \n",
    "    tf.keras.layers.Dense(1 , activation = 'sigmoid')\n",
    "])\n",
    "\n",
    "model.compile(loss = 'binary_crossentropy' , optimizer = 'adam' , metrics = ['accuracy'])"
   ]
  },
  {
   "cell_type": "code",
   "execution_count": 11,
   "metadata": {},
   "outputs": [
    {
     "name": "stdout",
     "output_type": "stream",
     "text": [
      "Model: \"sequential\"\n",
      "_________________________________________________________________\n",
      " Layer (type)                Output Shape              Param #   \n",
      "=================================================================\n",
      " embedding (Embedding)       (None, 120, 16)           160000    \n",
      "                                                                 \n",
      " flatten (Flatten)           (None, 1920)              0         \n",
      "                                                                 \n",
      " dense (Dense)               (None, 6)                 11526     \n",
      "                                                                 \n",
      " dense_1 (Dense)             (None, 1)                 7         \n",
      "                                                                 \n",
      "=================================================================\n",
      "Total params: 171533 (670.05 KB)\n",
      "Trainable params: 171533 (670.05 KB)\n",
      "Non-trainable params: 0 (0.00 Byte)\n",
      "_________________________________________________________________\n"
     ]
    }
   ],
   "source": [
    "model.summary()"
   ]
  },
  {
   "cell_type": "code",
   "execution_count": 12,
   "metadata": {},
   "outputs": [
    {
     "name": "stdout",
     "output_type": "stream",
     "text": [
      "Epoch 1/10\n",
      "WARNING:tensorflow:From C:\\Users\\PMLS\\AppData\\Roaming\\Python\\Python311\\site-packages\\keras\\src\\utils\\tf_utils.py:492: The name tf.ragged.RaggedTensorValue is deprecated. Please use tf.compat.v1.ragged.RaggedTensorValue instead.\n",
      "\n",
      "WARNING:tensorflow:From C:\\Users\\PMLS\\AppData\\Roaming\\Python\\Python311\\site-packages\\keras\\src\\engine\\base_layer_utils.py:384: The name tf.executing_eagerly_outside_functions is deprecated. Please use tf.compat.v1.executing_eagerly_outside_functions instead.\n",
      "\n",
      "1531/1531 [==============================] - 17s 8ms/step - loss: 0.4297 - accuracy: 0.7885 - val_loss: 0.2686 - val_accuracy: 0.8941\n",
      "Epoch 2/10\n",
      "1531/1531 [==============================] - 12s 8ms/step - loss: 0.2373 - accuracy: 0.9057 - val_loss: 0.1810 - val_accuracy: 0.9382\n",
      "Epoch 3/10\n",
      "1531/1531 [==============================] - 11s 7ms/step - loss: 0.1004 - accuracy: 0.9690 - val_loss: 0.1606 - val_accuracy: 0.9462\n",
      "Epoch 4/10\n",
      "1531/1531 [==============================] - 11s 7ms/step - loss: 0.0252 - accuracy: 0.9952 - val_loss: 0.1970 - val_accuracy: 0.9471\n",
      "Epoch 5/10\n",
      "1531/1531 [==============================] - 7s 4ms/step - loss: 0.0054 - accuracy: 0.9994 - val_loss: 0.2299 - val_accuracy: 0.9471\n",
      "Epoch 6/10\n",
      "1531/1531 [==============================] - 6s 4ms/step - loss: 0.0011 - accuracy: 1.0000 - val_loss: 0.2563 - val_accuracy: 0.9482\n",
      "Epoch 7/10\n",
      "1531/1531 [==============================] - 7s 4ms/step - loss: 2.7351e-04 - accuracy: 1.0000 - val_loss: 0.2772 - val_accuracy: 0.9502\n",
      "Epoch 8/10\n",
      "1531/1531 [==============================] - 6s 4ms/step - loss: 9.4739e-05 - accuracy: 1.0000 - val_loss: 0.2980 - val_accuracy: 0.9499\n",
      "Epoch 9/10\n",
      "1531/1531 [==============================] - 6s 4ms/step - loss: 4.0390e-05 - accuracy: 1.0000 - val_loss: 0.3211 - val_accuracy: 0.9496\n",
      "Epoch 10/10\n",
      "1531/1531 [==============================] - 6s 4ms/step - loss: 1.7169e-05 - accuracy: 1.0000 - val_loss: 0.3420 - val_accuracy: 0.9499\n"
     ]
    },
    {
     "data": {
      "text/plain": [
       "<keras.src.callbacks.History at 0x25c3c6bb990>"
      ]
     },
     "execution_count": 12,
     "metadata": {},
     "output_type": "execute_result"
    }
   ],
   "source": [
    "# Train the model :\n",
    "\n",
    "num_epochs = 10\n",
    "\n",
    "model.fit(padded , training_labels_final , epochs = num_epochs , validation_data = (test_padded , test_labels_final) )"
   ]
  },
  {
   "cell_type": "markdown",
   "metadata": {},
   "source": [
    "# Visualize word embeddings"
   ]
  },
  {
   "cell_type": "code",
   "execution_count": 26,
   "metadata": {},
   "outputs": [
    {
     "name": "stdout",
     "output_type": "stream",
     "text": [
      "(10000, 16)\n"
     ]
    }
   ],
   "source": [
    "embedded_layer = model.layers[0]            # Get the embedded layer form model:\n",
    "\n",
    "embedding_weights = embedded_layer.get_weights()[0]         #weights of embeded layer\\\n",
    "    \n",
    "print(embedding_weights.shape)"
   ]
  },
  {
   "cell_type": "markdown",
   "metadata": {},
   "source": [
    "We will need to generate two files:\n",
    "\n",
    "vecs.tsv - contains the vector weights of each word in the vocabulary\n",
    "\n",
    "\n",
    "meta.tsv - contains the words in the vocabulary"
   ]
  },
  {
   "cell_type": "code",
   "execution_count": 27,
   "metadata": {},
   "outputs": [],
   "source": [
    "# Get the index word dictionary :\n",
    "\n",
    "reverse_word_index = tokenizer.index_word"
   ]
  },
  {
   "cell_type": "code",
   "execution_count": 28,
   "metadata": {},
   "outputs": [],
   "source": [
    "import io\n",
    "# open writable files :\n",
    "\n",
    "out_v = io.open('vecs.tsv' , 'w' , encoding='utf-8')\n",
    "\n",
    "out_m = io.open('meta.tsv' , 'w' , encoding='utf-8')\n",
    "\n",
    "# Initialize the loop. Start counting at `1` because `0` is just for the padding\n",
    "\n",
    "for words_num in range(1 , vocabulary_size):\n",
    "    \n",
    "    word_name = reverse_word_index[words_num]       # word associated with index\n",
    "    \n",
    "    word_embedding = embedding_weights[words_num]   # Embedding weights associated with words\n",
    "    \n",
    "    out_m.write(word_name + '\\n')                   # write the word name in file\n",
    "    \n",
    "    out_v.write('\\t'.join([str(x) for x in word_embedding]) + '\\n' )\n",
    "\n",
    "# close the files\n",
    "\n",
    "out_m.close()\n",
    "\n",
    "out_v.close()\n",
    "    \n",
    "    "
   ]
  },
  {
   "cell_type": "code",
   "execution_count": 13,
   "metadata": {},
   "outputs": [],
   "source": [
    "import pickle\n",
    "\n",
    "pickle.dump(model , open('IMDB.pkl' , 'wb'))"
   ]
  },
  {
   "cell_type": "code",
   "execution_count": null,
   "metadata": {},
   "outputs": [],
   "source": []
  }
 ],
 "metadata": {
  "kernelspec": {
   "display_name": "Python 3",
   "language": "python",
   "name": "python3"
  },
  "language_info": {
   "codemirror_mode": {
    "name": "ipython",
    "version": 3
   },
   "file_extension": ".py",
   "mimetype": "text/x-python",
   "name": "python",
   "nbconvert_exporter": "python",
   "pygments_lexer": "ipython3",
   "version": "3.11.7"
  }
 },
 "nbformat": 4,
 "nbformat_minor": 2
}
