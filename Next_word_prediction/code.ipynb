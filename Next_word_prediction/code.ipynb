{
 "cells": [
  {
   "cell_type": "markdown",
   "metadata": {},
   "source": [
    "# Predicting the next word "
   ]
  },
  {
   "cell_type": "code",
   "execution_count": 16,
   "metadata": {},
   "outputs": [],
   "source": [
    "# Importing the libraries:\n",
    "\n",
    "import numpy as np \n",
    "import matplotlib.pyplot as plt\n",
    "from tensorflow.keras.models import Sequential\n",
    "from tensorflow.keras.utils import to_categorical \n",
    "from tensorflow.keras.preprocessing.text import Tokenizer\n",
    "from tensorflow.keras.preprocessing.sequence import pad_sequences\n",
    "from tensorflow.keras.layers import Embedding, LSTM, Dense, Bidirectional , Dropout"
   ]
  },
  {
   "cell_type": "markdown",
   "metadata": {},
   "source": [
    "Shakespeare Sonnets Dataset, which contains more than 2000 lines of text extracted from Shakespeare's sonnets."
   ]
  },
  {
   "cell_type": "code",
   "execution_count": null,
   "metadata": {},
   "outputs": [],
   "source": [
    "!pip install gdown==4.6.0"
   ]
  },
  {
   "cell_type": "code",
   "execution_count": 3,
   "metadata": {},
   "outputs": [
    {
     "name": "stderr",
     "output_type": "stream",
     "text": [
      "C:\\Users\\PMLS\\AppData\\Local\\Programs\\Python\\Python311\\Lib\\site-packages\\gdown\\cli.py:121: FutureWarning: Option `--id` was deprecated in version 4.3.1 and will be removed in 5.0. You don't need to pass it anymore to use a file ID.\n",
      "  warnings.warn(\n",
      "Downloading...\n",
      "From: https://drive.google.com/uc?id=108jAePKK4R3BVYBbYJZ32JWUwxeMg20K\n",
      "To: c:\\Users\\PMLS\\Desktop\\Personal\\Coursera\\NLP\\Next_word_prediction\\sonnets.txt\n",
      "\n",
      "  0%|          | 0.00/93.6k [00:00<?, ?B/s]\n",
      "100%|██████████| 93.6k/93.6k [00:00<00:00, 261kB/s]\n",
      "100%|██████████| 93.6k/93.6k [00:00<00:00, 261kB/s]\n"
     ]
    }
   ],
   "source": [
    "# sonnets.txt    Dataset:\n",
    "!gdown --id 108jAePKK4R3BVYBbYJZ32JWUwxeMg20K"
   ]
  },
  {
   "cell_type": "markdown",
   "metadata": {},
   "source": [
    "# Preprocessing Data"
   ]
  },
  {
   "cell_type": "code",
   "execution_count": 2,
   "metadata": {},
   "outputs": [
    {
     "name": "stdout",
     "output_type": "stream",
     "text": [
      "There are 2159 lines of sonnets\n",
      "\n",
      "The first 5 lines look like this:\n",
      "\n",
      "from fairest creatures we desire increase,\n",
      "that thereby beauty's rose might never die,\n",
      "but as the riper should by time decease,\n",
      "his tender heir might bear his memory:\n",
      "but thou, contracted to thine own bright eyes,\n"
     ]
    }
   ],
   "source": [
    "# Define path for file with sonnets\n",
    "\n",
    "SONNETS_FILE = './sonnets.txt'\n",
    "\n",
    "# Read the data :\n",
    "\n",
    "with open('./sonnets.txt') as f:\n",
    "    \n",
    "    data = f.read()\n",
    "\n",
    "# Convert to lower case and save as a list\n",
    "\n",
    "corpus = data.lower().split(\"\\n\")\n",
    "\n",
    "print(f\"There are {len(corpus)} lines of sonnets\\n\")\n",
    "\n",
    "print(f\"The first 5 lines look like this:\\n\")\n",
    "\n",
    "for i in range(5):\n",
    "    \n",
    "  print(corpus[i])\n"
   ]
  },
  {
   "cell_type": "markdown",
   "metadata": {},
   "source": [
    "# Tokenize the text "
   ]
  },
  {
   "cell_type": "code",
   "execution_count": 4,
   "metadata": {},
   "outputs": [],
   "source": [
    "tokenizer = Tokenizer()\n",
    "\n",
    "tokenizer.fit_on_texts(corpus)\n",
    "\n",
    "total_words = len(tokenizer.word_index) + 1\n"
   ]
  },
  {
   "cell_type": "code",
   "execution_count": 5,
   "metadata": {},
   "outputs": [
    {
     "data": {
      "text/plain": [
       "'from fairest creatures we desire increase,'"
      ]
     },
     "execution_count": 5,
     "metadata": {},
     "output_type": "execute_result"
    }
   ],
   "source": [
    "corpus[0]"
   ]
  },
  {
   "cell_type": "code",
   "execution_count": 6,
   "metadata": {},
   "outputs": [
    {
     "data": {
      "text/plain": [
       "[34, 417, 877, 166, 213, 517]"
      ]
     },
     "execution_count": 6,
     "metadata": {},
     "output_type": "execute_result"
    }
   ],
   "source": [
    "# Text to sequence :\n",
    "\n",
    "tokenizer.texts_to_sequences([corpus[0]])[0]            # Providing corpus as a string so it can create an accurate sequence"
   ]
  },
  {
   "cell_type": "markdown",
   "metadata": {},
   "source": [
    "# N-Gram sequence "
   ]
  },
  {
   "cell_type": "code",
   "execution_count": 7,
   "metadata": {},
   "outputs": [],
   "source": [
    "def n_gram_seqs(corpus , tokenizer):\n",
    "    \n",
    "    input_sentences = []\n",
    "    \n",
    "    for line in corpus:\n",
    "        \n",
    "        tokens = tokenizer.texts_to_sequences([line])[0]\n",
    "        \n",
    "        # generate unigra,s , bigrams , trigrams\n",
    "        \n",
    "            \n",
    "        for i in range(1 , len(tokens) ):\n",
    "            \n",
    "                n_grams = tokens[ : i+1]\n",
    "                \n",
    "                input_sentences.append(n_grams)\n",
    "            \n",
    "            \n",
    "    return input_sentences"
   ]
  },
  {
   "cell_type": "code",
   "execution_count": 8,
   "metadata": {},
   "outputs": [
    {
     "name": "stdout",
     "output_type": "stream",
     "text": [
      "n_gram sequences for first example look like this:\n",
      "\n"
     ]
    },
    {
     "data": {
      "text/plain": [
       "[[34, 417],\n",
       " [34, 417, 877],\n",
       " [34, 417, 877, 166],\n",
       " [34, 417, 877, 166, 213],\n",
       " [34, 417, 877, 166, 213, 517]]"
      ]
     },
     "execution_count": 8,
     "metadata": {},
     "output_type": "execute_result"
    }
   ],
   "source": [
    "first_example_sequence = n_gram_seqs([corpus[0]], tokenizer)\n",
    "\n",
    "\n",
    "print(\"n_gram sequences for first example look like this:\\n\")\n",
    "\n",
    "first_example_sequence"
   ]
  },
  {
   "cell_type": "code",
   "execution_count": 9,
   "metadata": {},
   "outputs": [
    {
     "name": "stdout",
     "output_type": "stream",
     "text": [
      "n_grams of input_sequences have length: 15462\n",
      "maximum length of sequences is: 11\n"
     ]
    }
   ],
   "source": [
    "# apply n_gram transfprmation on whole corpuse :\n",
    "\n",
    "\n",
    "input_sequences = n_gram_seqs(corpus , tokenizer)\n",
    "\n",
    "# Save max length \n",
    "\n",
    "max_sequence_len = max([len(x) for x in input_sequences])\n",
    "\n",
    "\n",
    "print(f\"n_grams of input_sequences have length: {len(input_sequences)}\")\n",
    "\n",
    "print(f\"maximum length of sequences is: {max_sequence_len}\")"
   ]
  },
  {
   "cell_type": "markdown",
   "metadata": {},
   "source": [
    "# Padding the sequencea"
   ]
  },
  {
   "cell_type": "code",
   "execution_count": 10,
   "metadata": {},
   "outputs": [],
   "source": [
    "def pad_seqs(input_sequences, maxlen):\n",
    "\n",
    "    padded_sequences = pad_sequences(input_sequences , maxlen = maxlen , padding = 'pre')\n",
    "\n",
    "    return padded_sequences"
   ]
  },
  {
   "cell_type": "code",
   "execution_count": 11,
   "metadata": {},
   "outputs": [
    {
     "data": {
      "text/plain": [
       "array([[  0,   0,   0,   0,  34, 417],\n",
       "       [  0,   0,   0,  34, 417, 877],\n",
       "       [  0,   0,  34, 417, 877, 166],\n",
       "       [  0,  34, 417, 877, 166, 213],\n",
       "       [ 34, 417, 877, 166, 213, 517]])"
      ]
     },
     "execution_count": 11,
     "metadata": {},
     "output_type": "execute_result"
    }
   ],
   "source": [
    "first_padded_seq = pad_seqs(first_example_sequence, max([len(x) for x in first_example_sequence]))\n",
    "\n",
    "first_padded_seq"
   ]
  },
  {
   "cell_type": "code",
   "execution_count": 12,
   "metadata": {},
   "outputs": [
    {
     "name": "stdout",
     "output_type": "stream",
     "text": [
      "padded corpus has shape: (15462, 11)\n"
     ]
    }
   ],
   "source": [
    "# Pad the whole corpus\n",
    "\n",
    "input_sequences = pad_seqs(input_sequences, max_sequence_len)\n",
    "\n",
    "print(f\"padded corpus has shape: {input_sequences.shape}\")"
   ]
  },
  {
   "cell_type": "markdown",
   "metadata": {},
   "source": [
    "# Split data into features and labels "
   ]
  },
  {
   "cell_type": "code",
   "execution_count": 13,
   "metadata": {},
   "outputs": [],
   "source": [
    "def features_and_labels(input_sequences , total_words):\n",
    "    \n",
    "    features = []\n",
    "    \n",
    "    one_hot_labels = []\n",
    "    \n",
    "    # Iterate over each input  \n",
    "    \n",
    "    for seq in input_sequences:\n",
    "        \n",
    "        features.append(seq[ : -1])\n",
    "        \n",
    "        one_hot_labels.append(to_categorical(seq[-1 ] , num_classes = total_words) )\n",
    "        \n",
    "        \n",
    "    # convert labels and features to numpy array :\n",
    "    \n",
    "    features = np.array(features)\n",
    "    \n",
    "    one_hot_labels = np.array(one_hot_labels)\n",
    "    \n",
    "    \n",
    "    return features , one_hot_labels"
   ]
  },
  {
   "cell_type": "code",
   "execution_count": 14,
   "metadata": {},
   "outputs": [
    {
     "name": "stdout",
     "output_type": "stream",
     "text": [
      "labels have shape: (5, 3211)\n",
      "\n",
      "features look like this:\n",
      "\n"
     ]
    },
    {
     "data": {
      "text/plain": [
       "array([[  0,   0,   0,   0,  34],\n",
       "       [  0,   0,   0,  34, 417],\n",
       "       [  0,   0,  34, 417, 877],\n",
       "       [  0,  34, 417, 877, 166],\n",
       "       [ 34, 417, 877, 166, 213]])"
      ]
     },
     "execution_count": 14,
     "metadata": {},
     "output_type": "execute_result"
    }
   ],
   "source": [
    "first_features, first_labels = features_and_labels(first_padded_seq, total_words)\n",
    "\n",
    "print(f\"labels have shape: {first_labels.shape}\")\n",
    "\n",
    "print(\"\\nfeatures look like this:\\n\")\n",
    "\n",
    "first_features"
   ]
  },
  {
   "cell_type": "code",
   "execution_count": 15,
   "metadata": {},
   "outputs": [
    {
     "name": "stdout",
     "output_type": "stream",
     "text": [
      "features have shape: (15462, 10)\n",
      "labels have shape: (15462, 3211)\n"
     ]
    }
   ],
   "source": [
    "features, labels = features_and_labels(input_sequences, total_words)\n",
    "\n",
    "\n",
    "print(f\"features have shape: {features.shape}\")\n",
    "\n",
    "print(f\"labels have shape: {labels.shape}\")"
   ]
  },
  {
   "cell_type": "markdown",
   "metadata": {},
   "source": [
    "# Model"
   ]
  },
  {
   "cell_type": "code",
   "execution_count": 21,
   "metadata": {},
   "outputs": [],
   "source": [
    "def create_model(total_words, max_sequence_len):\n",
    "    \n",
    "    model = Sequential()\n",
    "    \n",
    "    model.add(Embedding(total_words , 100 , input_length = max_sequence_len - 1))\n",
    "    \n",
    "    model.add(Bidirectional(LSTM(150 , return_sequences= True)))\n",
    "    \n",
    "    model.add(Dropout(0.2))\n",
    "    \n",
    "    model.add(LSTM(100))\n",
    "    \n",
    "    model.add(Dense(total_words /2 , activation = 'relu'))\n",
    "    \n",
    "    model.add(Dense(total_words , activation = 'softmax'))\n",
    "    \n",
    "    model.compile(loss = 'categorical_crossentropy', optimizer = 'adam' , metrics = 'accuracy')\n",
    "    \n",
    "    return model"
   ]
  },
  {
   "cell_type": "code",
   "execution_count": 22,
   "metadata": {},
   "outputs": [
    {
     "name": "stdout",
     "output_type": "stream",
     "text": [
      "WARNING:tensorflow:From C:\\Users\\PMLS\\AppData\\Roaming\\Python\\Python311\\site-packages\\keras\\src\\optimizers\\__init__.py:309: The name tf.train.Optimizer is deprecated. Please use tf.compat.v1.train.Optimizer instead.\n",
      "\n",
      "Epoch 1/50\n",
      "WARNING:tensorflow:From C:\\Users\\PMLS\\AppData\\Roaming\\Python\\Python311\\site-packages\\keras\\src\\utils\\tf_utils.py:492: The name tf.ragged.RaggedTensorValue is deprecated. Please use tf.compat.v1.ragged.RaggedTensorValue instead.\n",
      "\n",
      "WARNING:tensorflow:From C:\\Users\\PMLS\\AppData\\Roaming\\Python\\Python311\\site-packages\\keras\\src\\engine\\base_layer_utils.py:384: The name tf.executing_eagerly_outside_functions is deprecated. Please use tf.compat.v1.executing_eagerly_outside_functions instead.\n",
      "\n",
      "484/484 [==============================] - 64s 119ms/step - loss: 6.8044 - accuracy: 0.0226\n",
      "Epoch 2/50\n",
      "484/484 [==============================] - 52s 107ms/step - loss: 6.4341 - accuracy: 0.0313\n",
      "Epoch 3/50\n",
      "484/484 [==============================] - 51s 104ms/step - loss: 6.2278 - accuracy: 0.0366\n",
      "Epoch 4/50\n",
      "484/484 [==============================] - 51s 105ms/step - loss: 6.0096 - accuracy: 0.0424\n",
      "Epoch 5/50\n",
      "484/484 [==============================] - 52s 106ms/step - loss: 5.7637 - accuracy: 0.0508\n",
      "Epoch 6/50\n",
      "484/484 [==============================] - 51s 104ms/step - loss: 5.5148 - accuracy: 0.0615\n",
      "Epoch 7/50\n",
      "484/484 [==============================] - 50s 104ms/step - loss: 5.2683 - accuracy: 0.0760\n",
      "Epoch 8/50\n",
      "484/484 [==============================] - 51s 106ms/step - loss: 5.0207 - accuracy: 0.0867\n",
      "Epoch 9/50\n",
      "484/484 [==============================] - 50s 104ms/step - loss: 4.7627 - accuracy: 0.1023\n",
      "Epoch 10/50\n",
      "484/484 [==============================] - 456s 944ms/step - loss: 4.4913 - accuracy: 0.1215\n",
      "Epoch 11/50\n",
      "484/484 [==============================] - 46s 94ms/step - loss: 4.2018 - accuracy: 0.1451\n",
      "Epoch 12/50\n",
      "484/484 [==============================] - 46s 95ms/step - loss: 3.8803 - accuracy: 0.1780\n",
      "Epoch 13/50\n",
      "484/484 [==============================] - 48s 99ms/step - loss: 3.5503 - accuracy: 0.2271\n",
      "Epoch 14/50\n",
      "484/484 [==============================] - 46s 94ms/step - loss: 3.2143 - accuracy: 0.2823\n",
      "Epoch 15/50\n",
      "484/484 [==============================] - 47s 96ms/step - loss: 2.8979 - accuracy: 0.3319\n",
      "Epoch 16/50\n",
      "484/484 [==============================] - 46s 96ms/step - loss: 2.6066 - accuracy: 0.3934\n",
      "Epoch 17/50\n",
      "484/484 [==============================] - 118s 245ms/step - loss: 2.3408 - accuracy: 0.4463\n",
      "Epoch 18/50\n",
      "484/484 [==============================] - 48s 99ms/step - loss: 2.0961 - accuracy: 0.4972\n",
      "Epoch 19/50\n",
      "484/484 [==============================] - 49s 102ms/step - loss: 1.8952 - accuracy: 0.5406\n",
      "Epoch 20/50\n",
      "484/484 [==============================] - 50s 104ms/step - loss: 1.7133 - accuracy: 0.5835\n",
      "Epoch 21/50\n",
      "484/484 [==============================] - 51s 105ms/step - loss: 1.5666 - accuracy: 0.6160\n",
      "Epoch 22/50\n",
      "484/484 [==============================] - 54s 111ms/step - loss: 1.4274 - accuracy: 0.6480\n",
      "Epoch 23/50\n",
      "484/484 [==============================] - 55s 114ms/step - loss: 1.3147 - accuracy: 0.6731\n",
      "Epoch 24/50\n",
      "484/484 [==============================] - 53s 110ms/step - loss: 1.2146 - accuracy: 0.6977\n",
      "Epoch 25/50\n",
      "484/484 [==============================] - 53s 110ms/step - loss: 1.1110 - accuracy: 0.7229\n",
      "Epoch 26/50\n",
      "484/484 [==============================] - 55s 113ms/step - loss: 1.0390 - accuracy: 0.7385\n",
      "Epoch 27/50\n",
      "484/484 [==============================] - 56s 115ms/step - loss: 0.9981 - accuracy: 0.7482\n",
      "Epoch 28/50\n",
      "484/484 [==============================] - 50s 103ms/step - loss: 0.9425 - accuracy: 0.7588\n",
      "Epoch 29/50\n",
      "484/484 [==============================] - 50s 103ms/step - loss: 0.8819 - accuracy: 0.7742\n",
      "Epoch 30/50\n",
      "484/484 [==============================] - 50s 103ms/step - loss: 0.8483 - accuracy: 0.7814\n",
      "Epoch 31/50\n",
      "484/484 [==============================] - 50s 103ms/step - loss: 0.8142 - accuracy: 0.7908\n",
      "Epoch 32/50\n",
      "484/484 [==============================] - 49s 102ms/step - loss: 0.7869 - accuracy: 0.7976\n",
      "Epoch 33/50\n",
      "484/484 [==============================] - 49s 101ms/step - loss: 0.7616 - accuracy: 0.8049\n",
      "Epoch 34/50\n",
      "484/484 [==============================] - 50s 103ms/step - loss: 0.7541 - accuracy: 0.8042\n",
      "Epoch 35/50\n",
      "484/484 [==============================] - 50s 103ms/step - loss: 0.7374 - accuracy: 0.8065\n",
      "Epoch 36/50\n",
      "484/484 [==============================] - 50s 102ms/step - loss: 0.7155 - accuracy: 0.8118\n",
      "Epoch 37/50\n",
      "484/484 [==============================] - 51s 104ms/step - loss: 0.6797 - accuracy: 0.8223\n",
      "Epoch 38/50\n",
      "484/484 [==============================] - 53s 110ms/step - loss: 0.6661 - accuracy: 0.8213\n",
      "Epoch 39/50\n",
      "484/484 [==============================] - 56s 115ms/step - loss: 0.6721 - accuracy: 0.8218\n",
      "Epoch 40/50\n",
      "484/484 [==============================] - 56s 115ms/step - loss: 0.6779 - accuracy: 0.8201\n",
      "Epoch 41/50\n",
      "484/484 [==============================] - 55s 114ms/step - loss: 0.6597 - accuracy: 0.8229\n",
      "Epoch 42/50\n",
      "484/484 [==============================] - 61s 127ms/step - loss: 0.6340 - accuracy: 0.8292\n",
      "Epoch 43/50\n",
      "484/484 [==============================] - 63s 130ms/step - loss: 0.6421 - accuracy: 0.8259\n",
      "Epoch 44/50\n",
      "484/484 [==============================] - 61s 125ms/step - loss: 0.6414 - accuracy: 0.8255\n",
      "Epoch 45/50\n",
      "484/484 [==============================] - 62s 129ms/step - loss: 0.6241 - accuracy: 0.8301\n",
      "Epoch 46/50\n",
      "484/484 [==============================] - 63s 130ms/step - loss: 0.6144 - accuracy: 0.8317\n",
      "Epoch 47/50\n",
      "484/484 [==============================] - 61s 127ms/step - loss: 0.6083 - accuracy: 0.8333\n",
      "Epoch 48/50\n",
      "484/484 [==============================] - 62s 129ms/step - loss: 0.6037 - accuracy: 0.8335\n",
      "Epoch 49/50\n",
      "484/484 [==============================] - 64s 131ms/step - loss: 0.6010 - accuracy: 0.8332\n",
      "Epoch 50/50\n",
      "484/484 [==============================] - 63s 130ms/step - loss: 0.6002 - accuracy: 0.8324\n"
     ]
    }
   ],
   "source": [
    "# Get the untrained model\n",
    "model = create_model(total_words, max_sequence_len)\n",
    "\n",
    "# Train the model\n",
    "history = model.fit(features, labels, epochs=50, verbose=1)"
   ]
  },
  {
   "cell_type": "code",
   "execution_count": 23,
   "metadata": {},
   "outputs": [
    {
     "data": {
      "image/png": "[encoded data removed]",
      "text/plain": [
       "<Figure size 640x480 with 1 Axes>"
      ]
     },
     "metadata": {},
     "output_type": "display_data"
    },
    {
     "data": {
      "image/png": "[encoded data removed]",
      "text/plain": [
       "<Figure size 640x480 with 1 Axes>"
      ]
     },
     "metadata": {},
     "output_type": "display_data"
    }
   ],
   "source": [
    "# Take a look at the training curves of model\n",
    "\n",
    "acc = history.history['accuracy']\n",
    "loss = history.history['loss']\n",
    "\n",
    "epochs = range(len(acc))\n",
    "\n",
    "plt.plot(epochs, acc, 'b', label='Training accuracy')\n",
    "plt.title('Training accuracy')\n",
    "\n",
    "plt.figure()\n",
    "\n",
    "plt.plot(epochs, loss, 'b', label='Training Loss')\n",
    "plt.title('Training loss')\n",
    "plt.legend()\n",
    "\n",
    "plt.show()"
   ]
  },
  {
   "cell_type": "code",
   "execution_count": null,
   "metadata": {},
   "outputs": [],
   "source": []
  }
 ],
 "metadata": {
  "kernelspec": {
   "display_name": "Python 3",
   "language": "python",
   "name": "python3"
  },
  "language_info": {
   "codemirror_mode": {
    "name": "ipython",
    "version": 3
   },
   "file_extension": ".py",
   "mimetype": "text/x-python",
   "name": "python",
   "nbconvert_exporter": "python",
   "pygments_lexer": "ipython3",
   "version": "3.11.7"
  }
 },
 "nbformat": 4,
 "nbformat_minor": 2
}
