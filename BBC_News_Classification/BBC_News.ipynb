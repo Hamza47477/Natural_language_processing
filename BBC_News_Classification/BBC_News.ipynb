{
 "cells": [
  {
   "cell_type": "markdown",
   "metadata": {},
   "source": [
    "# BBC NEws Classification "
   ]
  },
  {
   "cell_type": "code",
   "execution_count": 1,
   "metadata": {},
   "outputs": [
    {
     "name": "stdout",
     "output_type": "stream",
     "text": [
      "WARNING:tensorflow:From C:\\Users\\PMLS\\AppData\\Roaming\\Python\\Python311\\site-packages\\keras\\src\\losses.py:2976: The name tf.losses.sparse_softmax_cross_entropy is deprecated. Please use tf.compat.v1.losses.sparse_softmax_cross_entropy instead.\n",
      "\n"
     ]
    }
   ],
   "source": [
    "# IMporting the libraries :\n",
    "\n",
    "import csv \n",
    "\n",
    "import tensorflow as tf\n",
    "\n",
    "import numpy as np\n",
    "\n",
    "import matplotlib.pyplot as plt\n",
    "\n",
    "from tensorflow.keras.preprocessing.text import Tokenizer\n",
    "\n",
    "from tensorflow.keras.preprocessing.sequence import pad_sequences\n"
   ]
  },
  {
   "cell_type": "code",
   "execution_count": 2,
   "metadata": {},
   "outputs": [
    {
     "name": "stdout",
     "output_type": "stream",
     "text": [
      "First line (Header) Looks like this :\n",
      "\n",
      "       ArticleId,Text,Category\n",
      "\n",
      "Each Data point looks like this :\n",
      "\n",
      "           1833,worldcom ex-boss launches defence lawyers defending former worldcom chief bernie ebbers against a battery of fraud charges have called a company whistleblower as their first witness.  cynthia cooper  worldcom s ex-head of internal accounting  alerted directors to irregular accounting practices at the us telecoms giant in 2002. her warnings led to the collapse of the firm following the discovery of an $11bn (Â£5.7bn) accounting fraud. mr ebbers has pleaded not guilty to charges of fraud and conspiracy.  prosecution lawyers have argued that mr ebbers orchestrated a series of accounting tricks at worldcom  ordering employees to hide expenses and inflate revenues to meet wall street earnings estimates. but ms cooper  who now runs her own consulting business  told a jury in new york on wednesday that external auditors arthur andersen had approved worldcom s accounting in early 2001 and 2002. she said andersen had given a  green light  to the procedures and practices used by worldcom. mr ebber s lawyers have said he was unaware of the fraud  arguing that auditors did not alert him to any problems.  ms cooper also said that during shareholder meetings mr ebbers often passed over technical questions to the company s finance chief  giving only  brief  answers himself. the prosecution s star witness  former worldcom financial chief scott sullivan  has said that mr ebbers ordered accounting adjustments at the firm  telling him to  hit our books . however  ms cooper said mr sullivan had not mentioned  anything uncomfortable  about worldcom s accounting during a 2001 audit committee meeting. mr ebbers could face a jail sentence of 85 years if convicted of all the charges he is facing. worldcom emerged from bankruptcy protection in 2004  and is now known as mci. last week  mci agreed to a buyout by verizon communications in a deal valued at $6.75bn.,business\n",
      "\n"
     ]
    }
   ],
   "source": [
    "# Loading the Dataset :\n",
    "\n",
    "with open (r'C:\\Users\\PMLS\\Desktop\\Personal\\Coursera\\NLP\\BBC_News_classification\\learn-ai-bbc\\BBC News Train.csv' , 'r') as csvfile:\n",
    "    \n",
    "    print(f\"First line (Header) Looks like this :\\n\\n       {csvfile.readline()}\")\n",
    "    \n",
    "    print(f'Each Data point looks like this :\\n\\n           {csvfile.readline()}')"
   ]
  },
  {
   "cell_type": "markdown",
   "metadata": {},
   "source": [
    "# Filtering the Data"
   ]
  },
  {
   "cell_type": "code",
   "execution_count": 3,
   "metadata": {},
   "outputs": [],
   "source": [
    "# Removing the Stopwords from the Data:\n",
    "\n",
    "def remove_stopwords(sentence):\n",
    "    \n",
    "    stopwords = [\"a\", \"about\", \"above\", \"after\", \"again\", \"against\", \"all\", \"am\", \"an\", \"and\", \"any\", \"are\", \"as\", \"at\", \"be\", \"because\", \"been\", \"before\", \"being\", \"below\", \"between\", \"both\", \"but\", \"by\", \"could\", \"did\", \"do\", \"does\", \"doing\", \"down\", \"during\", \"each\", \"few\", \"for\", \"from\", \"further\", \"had\", \"has\", \"have\", \"having\", \"he\", \"he'd\", \"he'll\", \"he's\", \"her\", \"here\", \"here's\", \"hers\", \"herself\", \"him\", \"himself\", \"his\", \"how\", \"how's\", \"i\", \"i'd\", \"i'll\", \"i'm\", \"i've\", \"if\", \"in\", \"into\", \"is\", \"it\", \"it's\", \"its\", \"itself\", \"let's\", \"me\", \"more\", \"most\", \"my\", \"myself\", \"nor\", \"of\", \"on\", \"once\", \"only\", \"or\", \"other\", \"ought\", \"our\", \"ours\", \"ourselves\", \"out\", \"over\", \"own\", \"same\", \"she\", \"she'd\", \"she'll\", \"she's\", \"should\", \"so\", \"some\", \"such\", \"than\", \"that\", \"that's\", \"the\", \"their\", \"theirs\", \"them\", \"themselves\", \"then\", \"there\", \"there's\", \"these\", \"they\", \"they'd\", \"they'll\", \"they're\", \"they've\", \"this\", \"those\", \"through\", \"to\", \"too\", \"under\", \"until\", \"up\", \"very\", \"was\", \"we\", \"we'd\", \"we'll\", \"we're\", \"we've\", \"were\", \"what\", \"what's\", \"when\", \"when's\", \"where\", \"where's\", \"which\", \"while\", \"who\", \"who's\", \"whom\", \"why\", \"why's\", \"with\", \"would\", \"you\", \"you'd\", \"you'll\", \"you're\", \"you've\", \"your\", \"yours\", \"yourself\", \"yourselves\"]\n",
    "\n",
    "    sentence = sentence.lower()\n",
    "    \n",
    "    words = sentence.split()\n",
    "    \n",
    "    filtered_words = [word for word in words if word not in stopwords]\n",
    "    \n",
    "    sentence = ' '.join(filtered_words)\n",
    "    \n",
    "    return sentence\n",
    "    "
   ]
  },
  {
   "cell_type": "markdown",
   "metadata": {},
   "source": [
    "# Reading the Raw Data "
   ]
  },
  {
   "cell_type": "code",
   "execution_count": 4,
   "metadata": {},
   "outputs": [],
   "source": [
    "def parse_data_from_file(filename):\n",
    "    \n",
    "    sentences = []\n",
    "    \n",
    "    labels = []\n",
    "    \n",
    "    with open(filename , 'r') as csvfile :\n",
    "        \n",
    "        reader = csv.reader(csvfile)\n",
    "        \n",
    "        next(reader)    # Skipping the first row as it contains the labels\n",
    "        \n",
    "        for row in reader :\n",
    "            \n",
    "            sentence = remove_stopwords(row[1])\n",
    "            \n",
    "            label = row[2]\n",
    "            \n",
    "            sentences.append(sentence)\n",
    "            \n",
    "            labels.append(label)\n",
    "            \n",
    "    return sentences , labels\n",
    "        "
   ]
  },
  {
   "cell_type": "code",
   "execution_count": 5,
   "metadata": {},
   "outputs": [],
   "source": [
    "file = r'C:\\Users\\PMLS\\Desktop\\Personal\\Coursera\\NLP\\BBC_News_classification\\learn-ai-bbc\\BBC News Train.csv'\n",
    "\n",
    "sentences , labels = parse_data_from_file(file)"
   ]
  },
  {
   "cell_type": "code",
   "execution_count": 7,
   "metadata": {},
   "outputs": [
    {
     "name": "stdout",
     "output_type": "stream",
     "text": [
      "['business', 'business', 'business', 'tech', 'business']\n"
     ]
    }
   ],
   "source": [
    "print(labels[0:5])"
   ]
  },
  {
   "cell_type": "code",
   "execution_count": 9,
   "metadata": {},
   "outputs": [
    {
     "name": "stdout",
     "output_type": "stream",
     "text": [
      "ORIGINAL DATASET:\n",
      "\n",
      "There are 1490 sentences in the dataset.\n",
      "\n",
      "First sentence has 203 words (after removing stopwords).\n",
      "\n",
      "There are 1490 labels in the dataset.\n",
      "\n",
      "The first 5 labels are ['business', 'business', 'business', 'tech', 'business']\n",
      "\n",
      "\n",
      "MINIATURE DATASET:\n",
      "\n",
      "There are 1490 sentences in the miniature dataset.\n",
      "\n",
      "First sentence has 203 words (after removing stopwords).\n",
      "\n",
      "There are 1490 labels in the miniature dataset.\n",
      "\n",
      "The first 5 labels are ['business', 'business', 'business', 'tech', 'business']\n"
     ]
    }
   ],
   "source": [
    "sentences, labels = parse_data_from_file(file)\n",
    "\n",
    "print(\"ORIGINAL DATASET:\\n\")\n",
    "\n",
    "print(f\"There are {len(sentences)} sentences in the dataset.\\n\")\n",
    "\n",
    "print(f\"First sentence has {len(sentences[0].split())} words (after removing stopwords).\\n\")\n",
    "\n",
    "print(f\"There are {len(labels)} labels in the dataset.\\n\")\n",
    "\n",
    "print(f\"The first 5 labels are {labels[:5]}\\n\\n\")\n",
    "\n",
    "# With a miniature version of the dataset that contains only first 5 rows\n",
    "\n",
    "mini_sentences, mini_labels = parse_data_from_file(file)\n",
    "\n",
    "print(\"MINIATURE DATASET:\\n\")\n",
    "\n",
    "print(f\"There are {len(mini_sentences)} sentences in the miniature dataset.\\n\")\n",
    "\n",
    "print(f\"First sentence has {len(mini_sentences[0].split())} words (after removing stopwords).\\n\")\n",
    "\n",
    "print(f\"There are {len(mini_labels)} labels in the miniature dataset.\\n\")\n",
    "\n",
    "print(f\"The first 5 labels are {mini_labels[:5]}\")"
   ]
  },
  {
   "cell_type": "markdown",
   "metadata": {},
   "source": [
    "# Tokenize Labels"
   ]
  },
  {
   "cell_type": "code",
   "execution_count": 10,
   "metadata": {},
   "outputs": [],
   "source": [
    "def tokenizer_labels(labels):\n",
    "    \n",
    "    label_tokenizer = Tokenizer()\n",
    "    \n",
    "    label_tokenizer.fit_on_texts(labels)\n",
    "    \n",
    "    label_word_index = label_tokenizer.word_index\n",
    "    \n",
    "    label_sequences = label_tokenizer.texts_to_sequences(labels)\n",
    "    \n",
    "    return label_sequences , label_word_index"
   ]
  },
  {
   "cell_type": "code",
   "execution_count": 15,
   "metadata": {},
   "outputs": [
    {
     "name": "stdout",
     "output_type": "stream",
     "text": [
      "[[2], [2], [2], [5], [2]]\n",
      "{'sport': 1, 'business': 2, 'politics': 3, 'entertainment': 4, 'tech': 5}\n"
     ]
    }
   ],
   "source": [
    "label_sequences , label_word_index = tokenizer_labels(labels)\n",
    "\n",
    "print(label_sequences[0:5])\n",
    "\n",
    "print(label_word_index)"
   ]
  },
  {
   "cell_type": "code",
   "execution_count": 16,
   "metadata": {},
   "outputs": [
    {
     "data": {
      "image/png": "[encoded data removed]",
      "text/plain": [
       "<Figure size 800x600 with 1 Axes>"
      ]
     },
     "metadata": {},
     "output_type": "display_data"
    }
   ],
   "source": [
    "labels_graph = label_word_index.keys()\n",
    "\n",
    "sizes = label_word_index.values()\n",
    "\n",
    "plt.figure(figsize=(8, 6))\n",
    "\n",
    "plt.pie(sizes, labels=labels_graph, autopct='%1.1f%%', startangle=140)\n",
    "\n",
    "plt.axis('equal') \n",
    "\n",
    "plt.title('Distribution of Data')\n",
    "\n",
    "plt.show()"
   ]
  },
  {
   "cell_type": "markdown",
   "metadata": {},
   "source": [
    "# Splitting the training and testing data "
   ]
  },
  {
   "cell_type": "code",
   "execution_count": 17,
   "metadata": {},
   "outputs": [],
   "source": [
    "def split_test_train_data(training_sentences , training_labels , training_split):\n",
    "    \n",
    "    \n",
    "    train_size = int(len(training_sentences) * training_split)\n",
    "    \n",
    "    \n",
    "    train_data = training_sentences[:train_size]\n",
    "    train_labels = training_labels[:train_size]\n",
    "    \n",
    "    \n",
    "    test_data = training_sentences[train_size:]\n",
    "    test_labels = training_labels[train_size:]\n",
    "    \n",
    "    \n",
    "    return train_data , train_labels , test_data , test_labels"
   ]
  },
  {
   "cell_type": "code",
   "execution_count": 18,
   "metadata": {},
   "outputs": [
    {
     "name": "stdout",
     "output_type": "stream",
     "text": [
      "There are 745 sentences for training.\n",
      "\n",
      "There are 745 labels for training.\n",
      "\n",
      "There are 745 sentences for validation.\n",
      "\n",
      "There are 745 labels for validation.\n"
     ]
    }
   ],
   "source": [
    "train_sentences, train_labels, test_sentences, test_labels = split_test_train_data(sentences, labels, training_split=0.5)\n",
    "\n",
    "print(f\"There are {len(train_sentences)} sentences for training.\\n\")\n",
    "\n",
    "print(f\"There are {len(train_labels)} labels for training.\\n\")\n",
    "\n",
    "print(f\"There are {len(test_sentences)} sentences for validation.\\n\")\n",
    "\n",
    "print(f\"There are {len(test_labels)} labels for validation.\")"
   ]
  },
  {
   "cell_type": "markdown",
   "metadata": {},
   "source": [
    "# Tokenizer"
   ]
  },
  {
   "cell_type": "code",
   "execution_count": null,
   "metadata": {},
   "outputs": [],
   "source": [
    "# parameters :\n",
    "\n",
    "num_words = 1000\n",
    "\n",
    "embedding_dim = 16\n",
    "\n",
    "maxlen = 120\n",
    "\n",
    "OOV_TOKEN = '<<OOV>>'\n",
    "\n",
    "padding = 'post'\n",
    "\n",
    "training_split = 0.5"
   ]
  },
  {
   "cell_type": "code",
   "execution_count": null,
   "metadata": {},
   "outputs": [],
   "source": [
    "def fit_tokenizer(train_sentences , num_words , OOV_TOKEN):\n",
    "    \n",
    "    tokenizer = Tokenizer(num_words = num_words , oov_token = OOV_TOKEN)\n",
    "    \n",
    "    tokenizer.fit_on_texts(train_sentences)\n",
    "    \n",
    "    return(tokenizer)"
   ]
  },
  {
   "cell_type": "code",
   "execution_count": null,
   "metadata": {},
   "outputs": [
    {
     "name": "stdout",
     "output_type": "stream",
     "text": [
      "Vocabulary contains 18565 words\n",
      "\n",
      "<OOV> token NOT included in vocabulary\n"
     ]
    }
   ],
   "source": [
    "tokenizer = fit_tokenizer(train_sentences, num_words, OOV_TOKEN)\n",
    "\n",
    "word_index = tokenizer.word_index\n",
    "\n",
    "print(f\"Vocabulary contains {len(word_index)} words\\n\")\n",
    "print(\"<OOV> token included in vocabulary\" if \"<OOV>\" in word_index else \"<OOV> token NOT included in vocabulary\")"
   ]
  },
  {
   "cell_type": "markdown",
   "metadata": {},
   "source": [
    "# Padding"
   ]
  },
  {
   "cell_type": "code",
   "execution_count": null,
   "metadata": {},
   "outputs": [],
   "source": [
    "def seq_and_pad(sentences , tokenizer ,  padding , maxlen):\n",
    "    \n",
    "    sequence = tokenizer.texts_to_sequences(sentences)\n",
    "    \n",
    "    padded_sequences = pad_sequences(sequence , padding = padding , maxlen = maxlen)\n",
    "    \n",
    "    return padded_sequences"
   ]
  },
  {
   "cell_type": "code",
   "execution_count": null,
   "metadata": {},
   "outputs": [
    {
     "name": "stdout",
     "output_type": "stream",
     "text": [
      "Padded training sequences have shape: (745, 120)\n",
      "\n",
      "Padded validation sequences have shape: (745, 120)\n"
     ]
    }
   ],
   "source": [
    "train_padded_seq = seq_and_pad(train_sentences, tokenizer, padding, maxlen)\n",
    "\n",
    "val_padded_seq = seq_and_pad(test_sentences, tokenizer, padding, maxlen)\n",
    "\n",
    "print(f\"Padded training sequences have shape: {train_padded_seq.shape}\\n\")\n",
    "\n",
    "print(f\"Padded validation sequences have shape: {val_padded_seq.shape}\")"
   ]
  },
  {
   "cell_type": "markdown",
   "metadata": {},
   "source": [
    "# Tokenize labels "
   ]
  },
  {
   "cell_type": "code",
   "execution_count": null,
   "metadata": {},
   "outputs": [],
   "source": [
    "def tokenize_labels(all_labels , split_labels):\n",
    "    \n",
    "    label_tokenizer = Tokenizer()\n",
    "    \n",
    "    label_tokenizer.fit_on_texts(all_labels)        # applying tokenizer\n",
    "    \n",
    "    label_seq = label_tokenizer.texts_to_sequences(split_labels)\n",
    "    \n",
    "    label_seq_np = np.array(label_seq) - 1\n",
    "    \n",
    "    return label_seq_np"
   ]
  },
  {
   "cell_type": "code",
   "execution_count": null,
   "metadata": {},
   "outputs": [],
   "source": [
    "train_label_seq = tokenize_labels(labels, train_labels)\n",
    "\n",
    "val_label_seq = tokenize_labels(labels, test_labels)"
   ]
  },
  {
   "cell_type": "markdown",
   "metadata": {},
   "source": [
    "# Model "
   ]
  },
  {
   "cell_type": "code",
   "execution_count": null,
   "metadata": {},
   "outputs": [],
   "source": [
    "def create_model(num_words, embedding_dim, maxlen):\n",
    "    \n",
    "    tf.random.set_seed(123)\n",
    "    \n",
    "    model = tf.keras.Sequential([\n",
    "        \n",
    "        tf.keras.layers.Embedding(input_dim = num_words , output_dim = embedding_dim , input_length = maxlen),\n",
    "        \n",
    "        tf.keras.layers.GlobalAveragePooling1D(),\n",
    "        \n",
    "        tf.keras.layers.Dense(24, activation='relu'),\n",
    "        \n",
    "        tf.keras.layers.Dense(6, activation='softmax')\n",
    "    ])\n",
    "\n",
    "    \n",
    "    model.compile(loss = 'sparse_categorical_crossentropy' , optimizer = 'adam' , metrics = ['accuracy'])\n",
    "    \n",
    "    \n",
    "    return model"
   ]
  },
  {
   "cell_type": "code",
   "execution_count": null,
   "metadata": {},
   "outputs": [
    {
     "name": "stdout",
     "output_type": "stream",
     "text": [
      "Epoch 1/40\n",
      "24/24 [==============================] - 1s 15ms/step - loss: 1.7865 - accuracy: 0.2094 - val_loss: 1.7755 - val_accuracy: 0.2591\n",
      "Epoch 2/40\n",
      "24/24 [==============================] - 0s 4ms/step - loss: 1.7648 - accuracy: 0.4188 - val_loss: 1.7544 - val_accuracy: 0.4282\n",
      "Epoch 3/40\n",
      "24/24 [==============================] - 0s 4ms/step - loss: 1.7390 - accuracy: 0.3906 - val_loss: 1.7282 - val_accuracy: 0.3624\n",
      "Epoch 4/40\n",
      "24/24 [==============================] - 0s 5ms/step - loss: 1.7046 - accuracy: 0.4322 - val_loss: 1.6938 - val_accuracy: 0.4107\n",
      "Epoch 5/40\n",
      "24/24 [==============================] - 0s 4ms/step - loss: 1.6600 - accuracy: 0.4617 - val_loss: 1.6508 - val_accuracy: 0.4282\n",
      "Epoch 6/40\n",
      "24/24 [==============================] - 0s 5ms/step - loss: 1.6061 - accuracy: 0.4537 - val_loss: 1.5980 - val_accuracy: 0.4282\n",
      "Epoch 7/40\n",
      "24/24 [==============================] - 0s 4ms/step - loss: 1.5393 - accuracy: 0.4658 - val_loss: 1.5367 - val_accuracy: 0.4282\n",
      "Epoch 8/40\n",
      "24/24 [==============================] - 0s 3ms/step - loss: 1.4642 - accuracy: 0.4671 - val_loss: 1.4668 - val_accuracy: 0.4322\n",
      "Epoch 9/40\n",
      "24/24 [==============================] - 0s 4ms/step - loss: 1.3828 - accuracy: 0.4671 - val_loss: 1.3896 - val_accuracy: 0.4389\n",
      "Epoch 10/40\n",
      "24/24 [==============================] - 0s 6ms/step - loss: 1.2902 - accuracy: 0.4819 - val_loss: 1.3016 - val_accuracy: 0.4779\n",
      "Epoch 11/40\n",
      "24/24 [==============================] - 0s 8ms/step - loss: 1.1972 - accuracy: 0.5933 - val_loss: 1.2125 - val_accuracy: 0.5651\n",
      "Epoch 12/40\n",
      "24/24 [==============================] - 0s 4ms/step - loss: 1.1066 - accuracy: 0.6644 - val_loss: 1.1314 - val_accuracy: 0.6631\n",
      "Epoch 13/40\n",
      "24/24 [==============================] - 0s 6ms/step - loss: 1.0216 - accuracy: 0.7315 - val_loss: 1.0489 - val_accuracy: 0.7477\n",
      "Epoch 14/40\n",
      "24/24 [==============================] - 0s 6ms/step - loss: 0.9409 - accuracy: 0.8430 - val_loss: 0.9726 - val_accuracy: 0.8215\n",
      "Epoch 15/40\n",
      "24/24 [==============================] - 0s 6ms/step - loss: 0.8620 - accuracy: 0.8913 - val_loss: 0.8964 - val_accuracy: 0.8617\n",
      "Epoch 16/40\n",
      "24/24 [==============================] - 0s 6ms/step - loss: 0.7871 - accuracy: 0.9020 - val_loss: 0.8277 - val_accuracy: 0.8819\n",
      "Epoch 17/40\n",
      "24/24 [==============================] - 0s 6ms/step - loss: 0.7173 - accuracy: 0.9208 - val_loss: 0.7627 - val_accuracy: 0.8953\n",
      "Epoch 18/40\n",
      "24/24 [==============================] - 0s 6ms/step - loss: 0.6539 - accuracy: 0.9275 - val_loss: 0.7064 - val_accuracy: 0.9060\n",
      "Epoch 19/40\n",
      "24/24 [==============================] - 0s 5ms/step - loss: 0.5968 - accuracy: 0.9329 - val_loss: 0.6508 - val_accuracy: 0.9128\n",
      "Epoch 20/40\n",
      "24/24 [==============================] - 0s 5ms/step - loss: 0.5428 - accuracy: 0.9383 - val_loss: 0.6069 - val_accuracy: 0.9141\n",
      "Epoch 21/40\n",
      "24/24 [==============================] - 0s 7ms/step - loss: 0.4937 - accuracy: 0.9490 - val_loss: 0.5598 - val_accuracy: 0.9221\n",
      "Epoch 22/40\n",
      "24/24 [==============================] - 0s 6ms/step - loss: 0.4505 - accuracy: 0.9450 - val_loss: 0.5234 - val_accuracy: 0.9221\n",
      "Epoch 23/40\n",
      "24/24 [==============================] - 0s 3ms/step - loss: 0.4101 - accuracy: 0.9530 - val_loss: 0.4899 - val_accuracy: 0.9248\n",
      "Epoch 24/40\n",
      "24/24 [==============================] - 0s 4ms/step - loss: 0.3747 - accuracy: 0.9544 - val_loss: 0.4577 - val_accuracy: 0.9248\n",
      "Epoch 25/40\n",
      "24/24 [==============================] - 0s 4ms/step - loss: 0.3431 - accuracy: 0.9611 - val_loss: 0.4282 - val_accuracy: 0.9289\n",
      "Epoch 26/40\n",
      "24/24 [==============================] - 0s 7ms/step - loss: 0.3140 - accuracy: 0.9638 - val_loss: 0.4049 - val_accuracy: 0.9275\n",
      "Epoch 27/40\n",
      "24/24 [==============================] - 0s 5ms/step - loss: 0.2894 - accuracy: 0.9638 - val_loss: 0.3842 - val_accuracy: 0.9275\n",
      "Epoch 28/40\n",
      "24/24 [==============================] - 0s 4ms/step - loss: 0.2656 - accuracy: 0.9678 - val_loss: 0.3617 - val_accuracy: 0.9302\n",
      "Epoch 29/40\n",
      "24/24 [==============================] - 0s 5ms/step - loss: 0.2440 - accuracy: 0.9732 - val_loss: 0.3459 - val_accuracy: 0.9396\n",
      "Epoch 30/40\n",
      "24/24 [==============================] - 0s 6ms/step - loss: 0.2248 - accuracy: 0.9745 - val_loss: 0.3285 - val_accuracy: 0.9356\n",
      "Epoch 31/40\n",
      "24/24 [==============================] - 0s 5ms/step - loss: 0.2075 - accuracy: 0.9772 - val_loss: 0.3130 - val_accuracy: 0.9396\n",
      "Epoch 32/40\n",
      "24/24 [==============================] - 0s 3ms/step - loss: 0.1923 - accuracy: 0.9785 - val_loss: 0.2983 - val_accuracy: 0.9477\n",
      "Epoch 33/40\n",
      "24/24 [==============================] - 0s 4ms/step - loss: 0.1775 - accuracy: 0.9785 - val_loss: 0.2889 - val_accuracy: 0.9463\n",
      "Epoch 34/40\n",
      "24/24 [==============================] - 0s 4ms/step - loss: 0.1649 - accuracy: 0.9799 - val_loss: 0.2785 - val_accuracy: 0.9477\n",
      "Epoch 35/40\n",
      "24/24 [==============================] - 0s 6ms/step - loss: 0.1538 - accuracy: 0.9812 - val_loss: 0.2678 - val_accuracy: 0.9530\n",
      "Epoch 36/40\n",
      "24/24 [==============================] - 0s 4ms/step - loss: 0.1438 - accuracy: 0.9826 - val_loss: 0.2602 - val_accuracy: 0.9503\n",
      "Epoch 37/40\n",
      "24/24 [==============================] - 0s 3ms/step - loss: 0.1335 - accuracy: 0.9893 - val_loss: 0.2501 - val_accuracy: 0.9530\n",
      "Epoch 38/40\n",
      "24/24 [==============================] - 0s 3ms/step - loss: 0.1250 - accuracy: 0.9852 - val_loss: 0.2457 - val_accuracy: 0.9530\n",
      "Epoch 39/40\n",
      "24/24 [==============================] - 0s 4ms/step - loss: 0.1169 - accuracy: 0.9893 - val_loss: 0.2392 - val_accuracy: 0.9530\n",
      "Epoch 40/40\n",
      "24/24 [==============================] - 0s 3ms/step - loss: 0.1092 - accuracy: 0.9893 - val_loss: 0.2319 - val_accuracy: 0.9517\n"
     ]
    }
   ],
   "source": [
    "\n",
    "model = create_model(num_words, embedding_dim, maxlen)\n",
    "\n",
    "history = model.fit(train_padded_seq, train_label_seq, epochs=40, validation_data=(val_padded_seq, val_label_seq))"
   ]
  },
  {
   "cell_type": "code",
   "execution_count": null,
   "metadata": {},
   "outputs": [
    {
     "data": {
      "image/png": "[encoded data removed]",
      "text/plain": [
       "<Figure size 640x480 with 1 Axes>"
      ]
     },
     "metadata": {},
     "output_type": "display_data"
    },
    {
     "data": {
      "image/png": "[encoded data removed]",
      "text/plain": [
       "<Figure size 640x480 with 1 Axes>"
      ]
     },
     "metadata": {},
     "output_type": "display_data"
    }
   ],
   "source": [
    "def plot_graphs(history, metric):\n",
    "    \n",
    "    plt.plot(history.history[metric])\n",
    "    \n",
    "    plt.plot(history.history[f'val_{metric}'])\n",
    "    \n",
    "    plt.xlabel(\"Epochs\")\n",
    "    \n",
    "    plt.ylabel(metric)\n",
    "    \n",
    "    plt.legend([metric, f'val_{metric}'])\n",
    "    \n",
    "    plt.show()\n",
    "    \n",
    "plot_graphs(history, \"accuracy\")\n",
    "\n",
    "plot_graphs(history, \"loss\")"
   ]
  }
 ],
 "metadata": {
  "kernelspec": {
   "display_name": "Python 3",
   "language": "python",
   "name": "python3"
  },
  "language_info": {
   "codemirror_mode": {
    "name": "ipython",
    "version": 3
   },
   "file_extension": ".py",
   "mimetype": "text/x-python",
   "name": "python",
   "nbconvert_exporter": "python",
   "pygments_lexer": "ipython3",
   "version": "3.11.7"
  }
 },
 "nbformat": 4,
 "nbformat_minor": 2
}
